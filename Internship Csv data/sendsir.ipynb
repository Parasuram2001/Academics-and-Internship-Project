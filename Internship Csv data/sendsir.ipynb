{
 "cells": [
  {
   "cell_type": "code",
   "execution_count": 7,
   "id": "d8c3f6dc",
   "metadata": {},
   "outputs": [
    {
     "ename": "SyntaxError",
     "evalue": "invalid syntax (249148849.py, line 2)",
     "output_type": "error",
     "traceback": [
      "\u001b[1;36m  Input \u001b[1;32mIn [7]\u001b[1;36m\u001b[0m\n\u001b[1;33m    l=[None]*10*\u001b[0m\n\u001b[1;37m                ^\u001b[0m\n\u001b[1;31mSyntaxError\u001b[0m\u001b[1;31m:\u001b[0m invalid syntax\n"
     ]
    }
   ],
   "source": [
    "#1\n",
    "l=[None]*10*\n",
    "print(len(l))"
   ]
  },
  {
   "cell_type": "code",
   "execution_count": 1,
   "id": "97383117",
   "metadata": {},
   "outputs": [
    {
     "name": "stdout",
     "output_type": "stream",
     "text": [
      "[10, 20, 30, 40, 50, 60]\n"
     ]
    }
   ],
   "source": [
    "#2\n",
    "sampleList=[10,20,30,40,50]\n",
    "sampleList.append(60)\n",
    "print(sampleList)"
   ]
  },
  {
   "cell_type": "code",
   "execution_count": 1,
   "id": "9dbb4729",
   "metadata": {},
   "outputs": [
    {
     "ename": "NameError",
     "evalue": "name 'samplelist' is not defined",
     "output_type": "error",
     "traceback": [
      "\u001b[1;31m---------------------------------------------------------------------------\u001b[0m",
      "\u001b[1;31mNameError\u001b[0m                                 Traceback (most recent call last)",
      "Input \u001b[1;32mIn [1]\u001b[0m, in \u001b[0;36m<cell line: 2>\u001b[1;34m()\u001b[0m\n\u001b[0;32m      1\u001b[0m sampleList\u001b[38;5;241m=\u001b[39m[\u001b[38;5;241m10\u001b[39m,\u001b[38;5;241m20\u001b[39m,\u001b[38;5;241m30\u001b[39m,\u001b[38;5;241m40\u001b[39m]\n\u001b[1;32m----> 2\u001b[0m \u001b[38;5;28;01mdel\u001b[39;00m \u001b[43msamplelist\u001b[49m[\u001b[38;5;241m0\u001b[39m:\u001b[38;5;241m6\u001b[39m]\n\u001b[0;32m      3\u001b[0m \u001b[38;5;28mprint\u001b[39m(sampleList)\n",
      "\u001b[1;31mNameError\u001b[0m: name 'samplelist' is not defined"
     ]
    }
   ],
   "source": [
    "#3\n",
    "sampleList=[10,20,30,40]\n",
    "del samplelist[0:6]\n",
    "print(sampleList)"
   ]
  },
  {
   "cell_type": "code",
   "execution_count": 2,
   "id": "1711e75d",
   "metadata": {},
   "outputs": [
    {
     "ename": "SyntaxError",
     "evalue": "invalid syntax (854998874.py, line 2)",
     "output_type": "error",
     "traceback": [
      "\u001b[1;36m  Input \u001b[1;32mIn [2]\u001b[1;36m\u001b[0m\n\u001b[1;33m    aList[1:4]=[20:24:28]\u001b[0m\n\u001b[1;37m                  ^\u001b[0m\n\u001b[1;31mSyntaxError\u001b[0m\u001b[1;31m:\u001b[0m invalid syntax\n"
     ]
    }
   ],
   "source": [
    "#4\n",
    "aList=[4,8,12,16]\n",
    "aList[1:4]=[20:24:28]\n",
    "print(aList)"
   ]
  },
  {
   "cell_type": "code",
   "execution_count": 3,
   "id": "dae54df2",
   "metadata": {},
   "outputs": [
    {
     "name": "stdout",
     "output_type": "stream",
     "text": [
      "Y\n",
      "16\n"
     ]
    }
   ],
   "source": [
    "#5\n",
    "aList=[\"PYnative\",[4,8,12,16]]\n",
    "print(aList[0][1])\n",
    "print(aList[1][3])"
   ]
  },
  {
   "cell_type": "code",
   "execution_count": 4,
   "id": "01aa01a6",
   "metadata": {},
   "outputs": [
    {
     "name": "stdout",
     "output_type": "stream",
     "text": [
      "['HelloDear', 'HelloBye', 'GoodDear', 'GoodBye']\n"
     ]
    }
   ],
   "source": [
    "#6\n",
    "resList=[x+y for x in ['Hello','Good'] for y in['Dear','Bye']]\n",
    "print(resList)"
   ]
  },
  {
   "cell_type": "code",
   "execution_count": 5,
   "id": "38000592",
   "metadata": {},
   "outputs": [
    {
     "name": "stdout",
     "output_type": "stream",
     "text": [
      "Hello-Python\n"
     ]
    }
   ],
   "source": [
    "#7\n",
    "my_list=[\"Hello\",\"Python\"]\n",
    "print(\"-\".join(my_list))"
   ]
  },
  {
   "cell_type": "code",
   "execution_count": 8,
   "id": "4b17de57",
   "metadata": {},
   "outputs": [
    {
     "name": "stdout",
     "output_type": "stream",
     "text": [
      "[2, 4, 6, 8, 10, 12, 14]\n"
     ]
    }
   ],
   "source": [
    "#8\n",
    "aList=[1,2,3,4,5,6,7]\n",
    "pow2=[2*x for x in aList]\n",
    "print(pow2)"
   ]
  },
  {
   "cell_type": "code",
   "execution_count": 9,
   "id": "6d79df73",
   "metadata": {},
   "outputs": [
    {
     "name": "stdout",
     "output_type": "stream",
     "text": [
      "zara\n"
     ]
    }
   ],
   "source": [
    "#9\n",
    "list1=['xyz','zara','PYnative']\n",
    "print(max(list1))"
   ]
  },
  {
   "cell_type": "code",
   "execution_count": 34,
   "id": "0100ace6",
   "metadata": {},
   "outputs": [
    {
     "name": "stdout",
     "output_type": "stream",
     "text": [
      "[10, 20, 30, 40]\n",
      "[10, 20, 40]\n"
     ]
    }
   ],
   "source": [
    "#10\n",
    "sampleList=[10,20,30,40,50]\n",
    "sampleList.pop()\n",
    "print(sampleList)\n",
    "sampleList.pop(2)\n",
    "print(sampleList)"
   ]
  },
  {
   "cell_type": "code",
   "execution_count": 11,
   "id": "75cd4683",
   "metadata": {},
   "outputs": [
    {
     "name": "stdout",
     "output_type": "stream",
     "text": [
      "[25, 10]\n"
     ]
    }
   ],
   "source": [
    "#11\n",
    "aList=[5,10,15,25]\n",
    "print(aList[::-2])"
   ]
  },
  {
   "cell_type": "code",
   "execution_count": 12,
   "id": "f39adb05",
   "metadata": {},
   "outputs": [
    {
     "name": "stdout",
     "output_type": "stream",
     "text": [
      "[30, 40, 50]\n",
      "[10, 20, 30, 40]\n",
      "[40, 50, 60, 70, 80]\n"
     ]
    }
   ],
   "source": [
    "#12\n",
    "aList=[10,20,30,40,50,60,70,80]\n",
    "print(aList[2:5])\n",
    "print(aList[:4])\n",
    "print(aList[3:])"
   ]
  },
  {
   "cell_type": "code",
   "execution_count": 13,
   "id": "3f475862",
   "metadata": {},
   "outputs": [
    {
     "name": "stdout",
     "output_type": "stream",
     "text": [
      "40\n",
      "[20, 30, 40]\n"
     ]
    }
   ],
   "source": [
    "#13\n",
    "sampleList=[10,20,30,40,50]\n",
    "print(sampleList[-2])\n",
    "print(sampleList[-4:-1])"
   ]
  },
  {
   "cell_type": "code",
   "execution_count": 14,
   "id": "dbf4e052",
   "metadata": {},
   "outputs": [],
   "source": [
    "#14\n",
    "#True"
   ]
  },
  {
   "cell_type": "code",
   "execution_count": 15,
   "id": "b45892af",
   "metadata": {},
   "outputs": [],
   "source": [
    "#15\n",
    "#False"
   ]
  },
  {
   "cell_type": "code",
   "execution_count": 19,
   "id": "c7a88a93",
   "metadata": {},
   "outputs": [
    {
     "name": "stdout",
     "output_type": "stream",
     "text": [
      "apple\n"
     ]
    }
   ],
   "source": [
    "#16\n",
    "fruits=(\"apple\",\"banana\",\"cherry\")\n",
    "print(fruits[0])"
   ]
  },
  {
   "cell_type": "code",
   "execution_count": 17,
   "id": "f04987d3",
   "metadata": {},
   "outputs": [
    {
     "name": "stdout",
     "output_type": "stream",
     "text": [
      "3\n"
     ]
    }
   ],
   "source": [
    "#17\n",
    "fruits=(\"apple\",\"banana\",\"cherry\")\n",
    "print(len(fruits))"
   ]
  },
  {
   "cell_type": "code",
   "execution_count": 20,
   "id": "09d48c6b",
   "metadata": {},
   "outputs": [
    {
     "name": "stdout",
     "output_type": "stream",
     "text": [
      "cherry\n"
     ]
    }
   ],
   "source": [
    "#18\n",
    "fruits=(\"apple\",\"banana\",\"cherry\")\n",
    "print(fruits[-1])"
   ]
  },
  {
   "cell_type": "code",
   "execution_count": 23,
   "id": "64adba47",
   "metadata": {},
   "outputs": [
    {
     "name": "stdout",
     "output_type": "stream",
     "text": [
      "('cherry', 'orange', 'kiwi')\n"
     ]
    }
   ],
   "source": [
    "#19\n",
    "fruits=(\"apple\",\"banana\",\"cherry\",\"orange\",\"kiwi\",\"melon\",\"mango\")\n",
    "print(fruits[2:5])"
   ]
  },
  {
   "cell_type": "code",
   "execution_count": 24,
   "id": "d0421b8e",
   "metadata": {},
   "outputs": [
    {
     "name": "stdout",
     "output_type": "stream",
     "text": [
      "Mustang\n"
     ]
    }
   ],
   "source": [
    "#20\n",
    "car={\"brand\":\"Ford\",\"model\":\"Mustang\",\"year\":\"1964\"}\n",
    "print(car.get(\"model\"))"
   ]
  },
  {
   "cell_type": "code",
   "execution_count": 26,
   "id": "292b1086",
   "metadata": {},
   "outputs": [
    {
     "name": "stdout",
     "output_type": "stream",
     "text": [
      "{'brand': 'Ford', 'model': 'Mustang', 'year': 2020}\n"
     ]
    }
   ],
   "source": [
    "#20\n",
    "car={\"brand\":\"Ford\",\"model\":\"Mustang\",\"year\":\"1964\"}\n",
    "car[\"year\"]=2020\n",
    "print(car)"
   ]
  },
  {
   "cell_type": "code",
   "execution_count": 28,
   "id": "bf8b393e",
   "metadata": {},
   "outputs": [
    {
     "name": "stdout",
     "output_type": "stream",
     "text": [
      "{'brand': 'Ford', 'model': 'Mustang', 'year': '1964', 'color': 'red'}\n"
     ]
    }
   ],
   "source": [
    "#21\n",
    "car={\"brand\":\"Ford\",\"model\":\"Mustang\",\"year\":\"1964\"}\n",
    "car[\"color\"]=\"red\"\n",
    "print(car)"
   ]
  },
  {
   "cell_type": "code",
   "execution_count": 30,
   "id": "abe9caa9",
   "metadata": {},
   "outputs": [
    {
     "name": "stdout",
     "output_type": "stream",
     "text": [
      "{'brand': 'Ford', 'year': '1964'}\n"
     ]
    }
   ],
   "source": [
    "#22\n",
    "car={\"brand\":\"Ford\",\"model\":\"Mustang\",\"year\":\"1964\"}\n",
    "car.pop(\"model\")\n",
    "print(car)"
   ]
  },
  {
   "cell_type": "code",
   "execution_count": 32,
   "id": "fc3baf95",
   "metadata": {},
   "outputs": [
    {
     "name": "stdout",
     "output_type": "stream",
     "text": [
      "{}\n"
     ]
    }
   ],
   "source": [
    "#23\n",
    "car={\"brand\":\"Ford\",\"model\":\"Mustang\",\"year\":\"1964\"}\n",
    "car.clear()\n",
    "print(car)"
   ]
  },
  {
   "cell_type": "code",
   "execution_count": 33,
   "id": "58cf6c14",
   "metadata": {},
   "outputs": [],
   "source": [
    "#24\n",
    "#True"
   ]
  },
  {
   "cell_type": "code",
   "execution_count": null,
   "id": "805d3ddc",
   "metadata": {},
   "outputs": [],
   "source": [
    "#25\n",
    "#True"
   ]
  }
 ],
 "metadata": {
  "kernelspec": {
   "display_name": "Python 3 (ipykernel)",
   "language": "python",
   "name": "python3"
  },
  "language_info": {
   "codemirror_mode": {
    "name": "ipython",
    "version": 3
   },
   "file_extension": ".py",
   "mimetype": "text/x-python",
   "name": "python",
   "nbconvert_exporter": "python",
   "pygments_lexer": "ipython3",
   "version": "3.9.12"
  }
 },
 "nbformat": 4,
 "nbformat_minor": 5
}
