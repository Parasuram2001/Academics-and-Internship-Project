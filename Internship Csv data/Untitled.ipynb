{
 "cells": [
  {
   "cell_type": "code",
   "execution_count": 1,
   "id": "c66cd1ef",
   "metadata": {},
   "outputs": [
    {
     "name": "stdout",
     "output_type": "stream",
     "text": [
      "10\n"
     ]
    }
   ],
   "source": [
    "ob = [None] * 10\n",
    "\n",
    "print(len(ob))"
   ]
  },
  {
   "cell_type": "code",
   "execution_count": 2,
   "id": "28ff4b87",
   "metadata": {},
   "outputs": [
    {
     "name": "stdout",
     "output_type": "stream",
     "text": [
      "[4, 20, 24, 28]\n"
     ]
    }
   ],
   "source": [
    "aList = [4, 8, 12, 16]\n",
    "\n",
    "aList[1:4] = [20, 24, 28]\n",
    "\n",
    "print(aList)"
   ]
  },
  {
   "cell_type": "code",
   "execution_count": 3,
   "id": "981c1d9f",
   "metadata": {},
   "outputs": [
    {
     "name": "stdout",
     "output_type": "stream",
     "text": [
      "['Hello Dear', 'Hello Bye', 'Good Dear', 'Good Bye']\n"
     ]
    }
   ],
   "source": [
    "resList = [x+y for x in ['Hello ', 'Good '] for y in ['Dear', 'Bye']]\n",
    "\n",
    "print(resList)"
   ]
  },
  {
   "cell_type": "code",
   "execution_count": 4,
   "id": "c5c3a766",
   "metadata": {},
   "outputs": [
    {
     "name": "stdout",
     "output_type": "stream",
     "text": [
      "[2, 4, 6, 8, 10, 12, 14]\n"
     ]
    }
   ],
   "source": [
    "aList = [1, 2, 3, 4, 5, 6, 7]\n",
    "\n",
    "pow2 =  [2 * x for x in aList]\n",
    "\n",
    "print(pow2)"
   ]
  },
  {
   "cell_type": "code",
   "execution_count": 5,
   "id": "ec77a025",
   "metadata": {},
   "outputs": [
    {
     "name": "stdout",
     "output_type": "stream",
     "text": [
      "[30, 40, 50]\n",
      "[10, 20, 30, 40]\n",
      "[40, 50, 60, 70, 80]\n"
     ]
    }
   ],
   "source": [
    "aList = [10, 20, 30, 40, 50, 60, 70, 80]\n",
    "\n",
    "print(aList[2:5])\n",
    "\n",
    "print(aList[:4])\n",
    "\n",
    "print(aList[3:])"
   ]
  },
  {
   "cell_type": "code",
   "execution_count": 7,
   "id": "8ef34048",
   "metadata": {},
   "outputs": [
    {
     "name": "stdout",
     "output_type": "stream",
     "text": [
      "3\n"
     ]
    }
   ],
   "source": [
    "fruits = (\"apple\", \"banana\", \"cherry\") \n",
    "print(len(fruits))"
   ]
  },
  {
   "cell_type": "code",
   "execution_count": 8,
   "id": "db2266a1",
   "metadata": {},
   "outputs": [
    {
     "name": "stdout",
     "output_type": "stream",
     "text": [
      "('cherry', 'orange', 'kiwi')\n"
     ]
    }
   ],
   "source": [
    "fruits = (\"apple\", \"banana\", \"cherry\", \"orange\", \"kiwi\", \"melon\", \"mango\") \n",
    "\n",
    "print(fruits[2:5])"
   ]
  },
  {
   "cell_type": "code",
   "execution_count": 10,
   "id": "e9a5e725",
   "metadata": {},
   "outputs": [
    {
     "name": "stdout",
     "output_type": "stream",
     "text": [
      "{'brand': 'Ford', 'model': 'Mustang', 'year': 2020}\n"
     ]
    }
   ],
   "source": [
    "car = { \"brand\": \"Ford\", \"model\": \"Mustang\", \"year\": 1964 }\n",
    "car[\"year\"] = 2020\n",
    "print(car)"
   ]
  },
  {
   "cell_type": "code",
   "execution_count": 12,
   "id": "178c9621",
   "metadata": {},
   "outputs": [
    {
     "name": "stdout",
     "output_type": "stream",
     "text": [
      "{'brand': 'Ford', 'year': 1964}\n"
     ]
    }
   ],
   "source": [
    "car = { \"brand\": \"Ford\", \"model\": \"Mustang\", \"year\": 1964 }\n",
    "car.pop(\"model\")\n",
    "print(car)"
   ]
  },
  {
   "cell_type": "code",
   "execution_count": 13,
   "id": "687be680",
   "metadata": {},
   "outputs": [
    {
     "data": {
      "text/plain": [
       "65536"
      ]
     },
     "execution_count": 13,
     "metadata": {},
     "output_type": "execute_result"
    }
   ],
   "source": [
    "2**2**2**2"
   ]
  },
  {
   "cell_type": "code",
   "execution_count": 14,
   "id": "8a248955",
   "metadata": {},
   "outputs": [
    {
     "ename": "SyntaxError",
     "evalue": "invalid character '–' (U+2013) (4012270248.py, line 1)",
     "output_type": "error",
     "traceback": [
      "\u001b[1;36m  Input \u001b[1;32mIn [14]\u001b[1;36m\u001b[0m\n\u001b[1;33m    round(0.56) – round(-0.6)\u001b[0m\n\u001b[1;37m                ^\u001b[0m\n\u001b[1;31mSyntaxError\u001b[0m\u001b[1;31m:\u001b[0m invalid character '–' (U+2013)\n"
     ]
    }
   ],
   "source": [
    "round(0.56) – round(-0.6)"
   ]
  },
  {
   "cell_type": "code",
   "execution_count": 15,
   "id": "fd89458c",
   "metadata": {},
   "outputs": [
    {
     "name": "stdout",
     "output_type": "stream",
     "text": [
      "43\n"
     ]
    }
   ],
   "source": [
    "print(3**3 + (3 -1)**(2 + 2))"
   ]
  },
  {
   "cell_type": "code",
   "execution_count": 19,
   "id": "a3f789bd",
   "metadata": {},
   "outputs": [
    {
     "name": "stdout",
     "output_type": "stream",
     "text": [
      "<class 'str'>\n",
      "<class 'int'>\n"
     ]
    }
   ],
   "source": [
    "man=\"Rohan\"\n",
    "\n",
    "print (type(man))\n",
    "\n",
    "man=5\n",
    "\n",
    "print(type(man))"
   ]
  },
  {
   "cell_type": "code",
   "execution_count": 20,
   "id": "15ede7cf",
   "metadata": {},
   "outputs": [
    {
     "name": "stdout",
     "output_type": "stream",
     "text": [
      "not true\n"
     ]
    }
   ],
   "source": [
    "x = 20\n",
    "\n",
    "if x > 10 and x < 15:\n",
    "\n",
    "    print('true')\n",
    "\n",
    "elif x > 15 and x < 25:\n",
    "\n",
    "    print('not true')\n",
    "\n",
    "elif x > 25 and x < 35:\n",
    "\n",
    "    print('false')\n",
    "\n",
    "else:\n",
    "\n",
    "    print('not false')"
   ]
  },
  {
   "cell_type": "code",
   "execution_count": 23,
   "id": "7953c81f",
   "metadata": {},
   "outputs": [
    {
     "ename": "SyntaxError",
     "evalue": "invalid syntax (1856885465.py, line 1)",
     "output_type": "error",
     "traceback": [
      "\u001b[1;36m  Input \u001b[1;32mIn [23]\u001b[1;36m\u001b[0m\n\u001b[1;33m    for i in range(1,6)\u001b[0m\n\u001b[1;37m                       ^\u001b[0m\n\u001b[1;31mSyntaxError\u001b[0m\u001b[1;31m:\u001b[0m invalid syntax\n"
     ]
    }
   ],
   "source": [
    "for i in range(1,6)"
   ]
  },
  {
   "cell_type": "code",
   "execution_count": 28,
   "id": "4dbc6bc9",
   "metadata": {},
   "outputs": [
    {
     "name": "stdout",
     "output_type": "stream",
     "text": [
      "5\n"
     ]
    }
   ],
   "source": [
    "i = 5\n",
    "while False:\n",
    "    if i%2 == 0:\n",
    "        break\n",
    "print(i)\n",
    "i += 3"
   ]
  },
  {
   "cell_type": "code",
   "execution_count": null,
   "id": "7b999036",
   "metadata": {},
   "outputs": [],
   "source": []
  }
 ],
 "metadata": {
  "kernelspec": {
   "display_name": "Python 3 (ipykernel)",
   "language": "python",
   "name": "python3"
  },
  "language_info": {
   "codemirror_mode": {
    "name": "ipython",
    "version": 3
   },
   "file_extension": ".py",
   "mimetype": "text/x-python",
   "name": "python",
   "nbconvert_exporter": "python",
   "pygments_lexer": "ipython3",
   "version": "3.9.12"
  }
 },
 "nbformat": 4,
 "nbformat_minor": 5
}
